{
 "cells": [
  {
   "cell_type": "code",
   "execution_count": 51,
   "metadata": {},
   "outputs": [],
   "source": [
    "from bs4 import BeautifulSoup\n",
    "import requests\n",
    "import csv\n",
    "\n",
    "page = requests.get('https://indeks.kompas.com')\n",
    "soup = BeautifulSoup(page.text, 'html.parser')\n",
    "\n",
    "f = csv.writer(open('scrapping_kompas_new2.csv', 'w', newline=''))\n",
    "f.writerow(['Nama', 'Kategori', 'Date'])\n",
    "\n",
    "if page.status_code==200:\n",
    "    latest = soup.find(class_='latest--indeks')\n",
    "    articles = latest.find_all(class_='article__list')\n",
    "\n",
    "for a in articles:     \n",
    "    title = a.find(class_='article__title article__title--medium').text\n",
    "    category = a.find(class_='article__subtitle article__subtitle--inline').text\n",
    "    date = a.find(class_='article__date').text\n",
    "    \n",
    "    f.writerow([title, category, date])     \n",
    "    "
   ]
  },
  {
   "cell_type": "code",
   "execution_count": null,
   "metadata": {},
   "outputs": [],
   "source": []
  },
  {
   "cell_type": "code",
   "execution_count": null,
   "metadata": {},
   "outputs": [],
   "source": []
  },
  {
   "cell_type": "code",
   "execution_count": null,
   "metadata": {},
   "outputs": [],
   "source": []
  }
 ],
 "metadata": {
  "kernelspec": {
   "display_name": "Python 3",
   "language": "python",
   "name": "python3"
  },
  "language_info": {
   "codemirror_mode": {
    "name": "ipython",
    "version": 3
   },
   "file_extension": ".py",
   "mimetype": "text/x-python",
   "name": "python",
   "nbconvert_exporter": "python",
   "pygments_lexer": "ipython3",
   "version": "3.7.4"
  }
 },
 "nbformat": 4,
 "nbformat_minor": 2
}
